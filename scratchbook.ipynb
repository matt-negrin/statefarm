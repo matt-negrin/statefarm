{
 "cells": [
  {
   "cell_type": "code",
   "execution_count": 40,
   "metadata": {
    "collapsed": false
   },
   "outputs": [],
   "source": [
    "import os\n",
    "from utils import *\n",
    "import keras.layers.convolutional as convolutional\n",
    "from keras.models import Sequential\n",
    "import json\n",
    "from helpers import *\n",
    "# reload(helpers)"
   ]
  },
  {
   "cell_type": "code",
   "execution_count": 41,
   "metadata": {
    "collapsed": false
   },
   "outputs": [],
   "source": [
    "creds = kaggle_creds('config.json')"
   ]
  },
  {
   "cell_type": "code",
   "execution_count": 39,
   "metadata": {
    "collapsed": false
   },
   "outputs": [
    {
     "data": {
      "text/plain": [
       "u'kg download -u mattnegrin -p tennispro1 -c state-farm-distracted-driver-detection'"
      ]
     },
     "execution_count": 39,
     "metadata": {},
     "output_type": "execute_result"
    }
   ],
   "source": [
    "competition = 'state-farm-distracted-driver-detection'\n",
    "username = creds['kaggle_username']\n",
    "password = creds['kaggle_password']\n",
    "command = 'kg download -u ' + username + ' -p ' + password + ' -c ' + competition\n",
    "command"
   ]
  },
  {
   "cell_type": "code",
   "execution_count": 42,
   "metadata": {
    "collapsed": false
   },
   "outputs": [],
   "source": [
    "competition = 'state-farm-distracted-driver-detection'\n"
   ]
  },
  {
   "cell_type": "code",
   "execution_count": 46,
   "metadata": {
    "collapsed": false
   },
   "outputs": [
    {
     "name": "stdout",
     "output_type": "stream",
     "text": [
      "downloading https://www.kaggle.com/c/state-farm-distracted-driver-detection/download/sample_submission.csv.zip\n",
      "downloading https://www.kaggle.com/c/state-farm-distracted-driver-detection/download/imgs.zip\n",
      "^CTraceback (most recent call last):\n",
      "  File \"/Users/matthew.negrin/anaconda2/envs/fastai_py27/bin/kg\", line 11, in <module>\n",
      "    sys.exit(main())\n",
      "  File \"/Users/matthew.negrin/anaconda2/envs/fastai_py27/lib/python2.7/site-packages/kaggle_cli/main.py\", line 22, in main\n",
      "    return app.run(argv)\n",
      "  File \"/Users/matthew.negrin/anaconda2/envs/fastai_py27/lib/python2.7/site-packages/cliff/app.py\", line 279, in run\n",
      "    result = self.run_subcommand(remainder)\n",
      "  File \"/Users/matthew.negrin/anaconda2/envs/fastai_py27/lib/python2.7/site-packages/cliff/app.py\", line 400, in run_subcommand\n",
      "    result = cmd.run(parsed_args)\n",
      "  File \"/Users/matthew.negrin/anaconda2/envs/fastai_py27/lib/python2.7/site-packages/cliff/command.py\", line 90, in run\n",
      "    return self.take_action(parsed_args) or 0\n",
      "  File \"/Users/matthew.negrin/anaconda2/envs/fastai_py27/lib/python2.7/site-packages/kaggle_cli/download.py\", line 35, in take_action\n",
      "    self.download_file(browser, url)\n",
      "  File \"/Users/matthew.negrin/anaconda2/envs/fastai_py27/lib/python2.7/site-packages/kaggle_cli/download.py\", line 46, in download_file\n",
      "    for chunk in stream.iter_content(chunk_size=1024): \n",
      "  File \"/Users/matthew.negrin/anaconda2/envs/fastai_py27/lib/python2.7/site-packages/requests/models.py\", line 703, in generate\n",
      "    for chunk in self.raw.stream(chunk_size, decode_content=True):\n",
      "  File \"/Users/matthew.negrin/anaconda2/envs/fastai_py27/lib/python2.7/site-packages/requests/packages/urllib3/response.py\", line 432, in stream\n",
      "    data = self.read(amt=amt, decode_content=decode_content)\n",
      "  File \"/Users/matthew.negrin/anaconda2/envs/fastai_py27/lib/python2.7/site-packages/requests/packages/urllib3/response.py\", line 380, in read\n",
      "    data = self._fp.read(amt)\n",
      "  File \"/Users/matthew.negrin/anaconda2/envs/fastai_py27/lib/python2.7/httplib.py\", line 612, in read\n",
      "    s = self.fp.read(amt)\n",
      "  File \"/Users/matthew.negrin/anaconda2/envs/fastai_py27/lib/python2.7/socket.py\", line 384, in read\n",
      "    data = self._sock.recv(left)\n",
      "  File \"/Users/matthew.negrin/anaconda2/envs/fastai_py27/lib/python2.7/site-packages/requests/packages/urllib3/contrib/pyopenssl.py\", line 233, in recv\n",
      "    data = self.connection.recv(*args, **kwargs)\n",
      "  File \"/Users/matthew.negrin/anaconda2/envs/fastai_py27/lib/python2.7/site-packages/OpenSSL/SSL.py\", line 1303, in recv\n"
     ]
    }
   ],
   "source": [
    "!kg download -u mattnegrin -p tennispro1 -c state-farm-distracted-driver-detection"
   ]
  },
  {
   "cell_type": "code",
   "execution_count": null,
   "metadata": {
    "collapsed": true
   },
   "outputs": [],
   "source": []
  }
 ],
 "metadata": {
  "anaconda-cloud": {},
  "kernelspec": {
   "display_name": "Python [conda env:fastai_py27]",
   "language": "python",
   "name": "conda-env-fastai_py27-py"
  },
  "language_info": {
   "codemirror_mode": {
    "name": "ipython",
    "version": 2
   },
   "file_extension": ".py",
   "mimetype": "text/x-python",
   "name": "python",
   "nbconvert_exporter": "python",
   "pygments_lexer": "ipython2",
   "version": "2.7.12"
  }
 },
 "nbformat": 4,
 "nbformat_minor": 1
}
